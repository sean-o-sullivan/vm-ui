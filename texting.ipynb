{
 "cells": [
  {
   "cell_type": "code",
   "execution_count": null,
   "metadata": {},
   "outputs": [],
   "source": [
    "def get_existing_author_ids(csv_file_path):\n",
    "    author_ids = set()\n",
    "    try:\n",
    "        with open(csv_file_path, 'r', newline='', encoding='utf-8') as csvfile:\n",
    "            reader = csv.reader(csvfile)\n",
    "            rows = [row for row in reader]\n",
    "        columns = list(zip(*rows))\n",
    "\n",
    "        for item in columns[1]:\n",
    "            \n",
    "            author_ids.add(item)\n",
    "\n",
    "    except FileNotFoundError:\n",
    "        pass  \n",
    "    return list(author_ids)"
   ]
  },
  {
   "cell_type": "markdown",
   "metadata": {},
   "source": [
    "https://mail.google.com/mail/u/0/\n",
    "\n",
    "\n",
    "https://docs.google.com/document/d/1aiih6PgcwhQSjtwQ4jmpKlxH_m1lf5aYukdRTB8NgHw/edit\n",
    "\n",
    "https://docs.google.com/document/d/1YYg2kC8xfgRedAvGzgP1FdBaEt3R1_WJzhVT6kQonU8/edit\n",
    "\n",
    "https://docs.google.com/document/d/1setfOzu6ZPEZhNBUorkva7IUKULmuFnHtLu0vdpqjy0/edit"
   ]
  },
  {
   "cell_type": "code",
   "execution_count": 1,
   "metadata": {},
   "outputs": [
    {
     "name": "stdout",
     "output_type": "stream",
     "text": [
      "hello\n"
     ]
    }
   ],
   "source": [
    "print('hello')"
   ]
  },
  {
   "cell_type": "code",
   "execution_count": null,
   "metadata": {},
   "outputs": [],
   "source": [
    "def get_existing_author_ids(csv_file_path):\n",
    "    author_ids = set()\n",
    "    try:\n",
    "        with open(csv_file_path, 'r', newline='', encoding='utf-8') as csvfile:\n",
    "            reader = csv.reader(csvfile)\n",
    "            rows = [row for row in reader]\n",
    "        columns = list(zip(*rows))\n",
    "\n",
    "        for item in columns[1]:\n",
    "            \n",
    "            author_ids.add(item)\n",
    "\n",
    "    except FileNotFoundError:\n",
    "        pass  \n",
    "   \n",
    "    return list(author_ids)"
   ]
  },
  {
   "cell_type": "code",
   "execution_count": 7,
   "metadata": {},
   "outputs": [],
   "source": [
    "import csv"
   ]
  },
  {
   "cell_type": "code",
   "execution_count": 1,
   "metadata": {},
   "outputs": [],
   "source": [
    "path = r\"C:\\Users\\S\\Desktop\\VerifyMe\\Home\\embeddings.csv\""
   ]
  },
  {
   "cell_type": "code",
   "execution_count": 2,
   "metadata": {},
   "outputs": [],
   "source": [
    "path = r\"embeddings.csv\""
   ]
  },
  {
   "cell_type": "code",
   "execution_count": 15,
   "metadata": {},
   "outputs": [],
   "source": [
    "path = r'C:\\Users\\S\\Desktop\\VerifyMe\\Home\\app\\uploads\\embeddings.csv'"
   ]
  },
  {
   "cell_type": "code",
   "execution_count": 18,
   "metadata": {},
   "outputs": [
    {
     "name": "stdout",
     "output_type": "stream",
     "text": [
      "[' Author', '1', '35', '43']\n"
     ]
    }
   ],
   "source": [
    "print(get_existing_author_ids(path))"
   ]
  },
  {
   "cell_type": "code",
   "execution_count": 1,
   "metadata": {},
   "outputs": [
    {
     "name": "stdout",
     "output_type": "stream",
     "text": [
      "None\n"
     ]
    }
   ],
   "source": [
    "def test():\n",
    "    test = 0\n",
    "\n",
    "\n",
    "print(test())"
   ]
  },
  {
   "cell_type": "code",
   "execution_count": 6,
   "metadata": {},
   "outputs": [],
   "source": [
    "list = [0.6900540725621869, 0.6155142633496828, 0.5935568600404441, 0.509790609291617, 0.8390888069731768, 0.5212827149841818, 0.2605660855770111, 0.6918496752136328, 0.6876532060379306, 0.3231124299373557, 0.4094955489614243, 0.7401287479775552, 0.3485254691689008, 0.5323630792799694, 0.6112600536193029, 0.388421052631579, 0.3016357649526504, 0.0293841090738128, 0.1288070534742482, 0.2196942734490682, 0.0339455411683036, 0.6919298209739042, 0.3571114959900274, 0.4678344362268066,\n",
    "        0.267233319721834, 0.523974186301269, 0.4652035959809624, 0.2840757772135717, 0.455373406193078, 0.3319544456360755, 0.4258037044922289, 0.1821493624772312, 0.0, 0.1270809505655101, 0.103103412722961, 0.3415300546448085, 0.227686703096539, 0.0, 0.0, 0.2732240437158468, 0.0, 0.0, 0.4228467343221438, 0.0, 0.0780640124902419, 0.1762735765908689, 0.1862891207153501, 0.4821600771456119, 0.3998400639744099, 0.0515517063614805, 0.0, 0.0, 0.0, 0.0, 0.0, 0.0853825136612021, 0.0, 0.0]"
   ]
  },
  {
   "cell_type": "code",
   "execution_count": 3,
   "metadata": {},
   "outputs": [
    {
     "ename": "TypeError",
     "evalue": "object of type 'type' has no len()",
     "output_type": "error",
     "traceback": [
      "\u001b[1;31m---------------------------------------------------------------------------\u001b[0m",
      "\u001b[1;31mTypeError\u001b[0m                                 Traceback (most recent call last)",
      "Cell \u001b[1;32mIn[3], line 1\u001b[0m\n\u001b[1;32m----> 1\u001b[0m \u001b[38;5;28mprint\u001b[39m(\u001b[38;5;28;43mlen\u001b[39;49m\u001b[43m(\u001b[49m\u001b[38;5;28;43mlist\u001b[39;49m\u001b[43m)\u001b[49m)\n",
      "\u001b[1;31mTypeError\u001b[0m: object of type 'type' has no len()"
     ]
    }
   ],
   "source": [
    "print(len(list))"
   ]
  },
  {
   "cell_type": "code",
   "execution_count": 37,
   "metadata": {},
   "outputs": [],
   "source": [
    "from_csv = [0.6551265485861795, 0.602397627160326, 0.5825362762094861, 0.4808191216955082, 0.8330512779596712, 0.5377886132224294, 0.23585696518421173, 0.5057562671190762, 0.7060041407867493, 0.38095238095238093, 0.4, 0.7246376811594204, 0.47002724795640327, 0.6072401712728689, 0.7120799273387829, 0.6672727272727274, 0.26785482603247573, 0.08480325644504748, 0.17347880770493734, 0.08453907184553021, 0.0, 0.4889736169326787, 0.6193441435948249, 0.560358115998443, 0.4831224824987342, 0.6172515197208989,\n",
    "            0.7712688877879614, 0.16240503816518398, 0.4919769906145925, 0.3055845577936792, 0.21232173820729666, 0.0605510142294883, 0.06811989100817434, 0.12673468094544063, 0.10282247699347069, 0.25544959128065375, 0.0, 0.0, 0.0, 0.1362397820163487, 0.1362397820163487, 0.0, 0.5514467367328398, 0.18791694071220508, 0.1557026080186842, 0.0, 0.06192717364379485, 0.5449591280653947, 0.332292151259387, 0.2570561924836768, 0.0446687809889668, 0.12975217334890352, 0.0, 0.259504346697807, 0.0, 0.0, 0.0, 0.0]"
   ]
  },
  {
   "cell_type": "code",
   "execution_count": 11,
   "metadata": {},
   "outputs": [
    {
     "name": "stdout",
     "output_type": "stream",
     "text": [
      "0.602397627160326\n"
     ]
    }
   ],
   "source": []
  },
  {
   "cell_type": "code",
   "execution_count": null,
   "metadata": {},
   "outputs": [],
   "source": [
    "\n",
    "from_code = [0.6551265485861795, 0.602397627160326, 0.5825362762094861, 0.4808191216955082, 0.833051277959669, 0.5377886132224294, 0.23747186362743378, 0.7060041407867493, 0.38095238095238093, 0.4, 0.7246376811594204, 0.5057562671190762, 0.47002724795640327, 0.7120799273387829, 0.6072401712728689, 0.6672727272727274, 0.267733734338971, 0.08476491862567812, 0.17105713308244955, 0.08450085345861993, 0.0, 0.4889736169326787, 0.6193441435948249, 0.560358115998443, 0.4831224824987342, 0.6172515197208989,\n",
    "             0.7365150999091735, 0.16240503816518398, 0.4919769906145925, 0.3055845577936792, 0.21232173820729666, 0.0605510142294883, 0.06811989100817434, 0.12673468094544063, 0.10282247699347069, 0.25544959128065375, 0.0, 0.0, 0.0, 0.1362397820163487, 0.1362397820163487, 0.0, 0.5514467367328398, 0.18791694071220508, 0.1557026080186842, 0.0, 0.06192717364379485, 0.5449591280653947, 0.332292151259387, 0.2570561924836768, 0.0446687809889668, 0.12975217334890352, 0.0, 0.259504346697807, 0.0, 0.0, 0.0, 0.0]\n",
    "\n",
    "from_code = [0.6551265485861795, 0.602397627160326, 0.5825362762094861, 0.4808191216955082, 0.833051277959669, 0.5377886132224294, 0.23747186362743378, 0.5057562671190762, 0.7060041407867493, 0.38095238095238093, 0.4, 0.7246376811594204, 0.47002724795640327, 0.6072401712728689, 0.7120799273387829, 0.6672727272727274, 0.267733734338971, 0.08476491862567812, 0.17105713308244955, 0.08450085345861993, 0.0, 0.4889736169326787, 0.6193441435948249, 0.560358115998443, 0.4831224824987342, 0.6172515197208989,\n",
    "             0.7365150999091735, 0.16240503816518398, 0.4919769906145925, 0.3055845577936792, 0.21232173820729666, 0.0605510142294883, 0.06811989100817434, 0.12673468094544063, 0.10282247699347069, 0.25544959128065375, 0.0, 0.0, 0.0, 0.1362397820163487, 0.1362397820163487, 0.0, 0.5514467367328398, 0.18791694071220508, 0.1557026080186842, 0.0, 0.06192717364379485, 0.5449591280653947, 0.332292151259387, 0.2570561924836768, 0.0446687809889668, 0.12975217334890352, 0.0, 0.259504346697807, 0.0, 0.0, 0.0, 0.0]\n",
    "\n",
    "\n"
   ]
  },
  {
   "cell_type": "code",
   "execution_count": 46,
   "metadata": {},
   "outputs": [],
   "source": [
    "from_csv = [0.6692118754673237, 0.6057571715043943, 0.5898808407303375, 0.4869341385612758, 0.8783740987957199, 0.4951895868704018, 0.6487587094306946, 4.997175141242938, 0.4708097928436911, 0.3870056497175141, 0.7926787779819011, 0.5868127567990609, 0.43999999999999995, 0.672, 0.5828571428571429, 0.475, 0.1527258010059176, 0.11052166224580016, 0.1672760293449949, 0.24789905550459854, 0.015788808892257165, 0.6131919297844834, 0.45644679155041845, 0.5311621021465581, 0.3535832448966852,\n",
    "            0.5894392463291805, 0.5794878032957052, 0.19426048565121412, 0.3784438389343019, 0.35651531742595916, 0.24770869457517947, 0.3027550711474415, 0.0, 0.06336734047272032, 0.051411238496735345, 0.25544959128065375, 0.05676657584014528, 0.0, 0.0, 0.0, 0.0, 0.0, 0.16219021668612937, 0.0, 0.0778513040093421, 0.08789663355893464, 0.30963586821897426, 0.6090719666613235, 0.332292151259387, 0.2570561924836768, 0.0, 0.0, 0.12499062570307226, 0.0, 0.09395847035610254, 0.0, 0.0, 0.08014104824255394]\n",
    "\n",
    "\n",
    "from_csv = [0.6692118754673237, 0.6057571715043943, 0.5898808407303375, 0.4869341385612758, 0.8783740987957199, 0.4951895868704018, 0.6487587094306946, 0.7242282813395562, 0.4708097928436911, 0.3870056497175141, 0.7926787779819011, 0.5868127567990609, 0.43999999999999995, 0.672, 0.5828571428571429, 0.475, 0.1527258010059176, 0.11052166224580016, 0.1672760293449949, 0.24789905550459854, 0.015788808892257165, 0.6131919297844834, 0.45644679155041845, 0.5311621021465581, 0.3535832448966852,\n",
    "            0.5894392463291805, 0.5794878032957052, 0.19426048565121412, 0.3784438389343019, 0.35651531742595916, 0.24770869457517947, 0.3027550711474415, 0.0, 0.06336734047272032, 0.051411238496735345, 0.25544959128065375, 0.05676657584014528, 0.0, 0.0, 0.0, 0.0, 0.0, 0.16219021668612937, 0.0, 0.0778513040093421, 0.08789663355893464, 0.30963586821897426, 0.6090719666613235, 0.332292151259387, 0.2570561924836768, 0.0, 0.0, 0.12499062570307226, 0.0, 0.09395847035610254, 0.0, 0.0, 0.08014104824255394]\n",
    "\n",
    "\n",
    "\n",
    "from_code = [0.6692118754673237, 0.6057571715043943, 0.5898808407303375, 0.4869341385612758, 0.8783740987957199, 0.4951895868704018, 0.6528012156486511, 0.5868127567990609, 0.7242282813395562, 0.4708097928436911, 0.3870056497175141, 0.7926787779819011, 0.43999999999999995, 0.5828571428571429, 0.672, 0.475, 0.15265831280397066, 0.1104728236853734, 0.1672021115238084, 0.24778951106999644, 0.01578183195505334, 0.6131919297844834, 0.45644679155041845, 0.5311621021465581, 0.3535832448966852,\n",
    "             0.5894392463291805, 0.5695581496160516, 0.19426048565121412, 0.3784438389343019, 0.35651531742595916, 0.24770869457517947, 0.3027550711474415, 0.0, 0.06336734047272032, 0.051411238496735345, 0.25544959128065375, 0.05676657584014528, 0.0, 0.0, 0.0, 0.0, 0.0, 0.16219021668612937, 0.0, 0.0778513040093421, 0.08789663355893464, 0.30963586821897426, 0.6090719666613235, 0.332292151259387, 0.2570561924836768, 0.0, 0.0, 0.12499062570307226, 0.0, 0.09395847035610254, 0.0, 0.0, 0.08014104824255394]"
   ]
  },
  {
   "cell_type": "code",
   "execution_count": 47,
   "metadata": {},
   "outputs": [
    {
     "name": "stdout",
     "output_type": "stream",
     "text": [
      "\n",
      "\n",
      "Stylometric value index: 6. \n",
      "From CSV: 0.6487587094306946\n",
      "From Code: 0.6528012156486511.\n",
      "\n",
      "\n",
      "Stylometric value index: 7. \n",
      "From CSV: 0.7242282813395562\n",
      "From Code: 0.5868127567990609.\n",
      "\n",
      "\n",
      "Stylometric value index: 8. \n",
      "From CSV: 0.4708097928436911\n",
      "From Code: 0.7242282813395562.\n",
      "\n",
      "\n",
      "Stylometric value index: 9. \n",
      "From CSV: 0.3870056497175141\n",
      "From Code: 0.4708097928436911.\n",
      "\n",
      "\n",
      "Stylometric value index: 10. \n",
      "From CSV: 0.7926787779819011\n",
      "From Code: 0.3870056497175141.\n",
      "\n",
      "\n",
      "Stylometric value index: 11. \n",
      "From CSV: 0.5868127567990609\n",
      "From Code: 0.7926787779819011.\n",
      "\n",
      "\n",
      "Stylometric value index: 13. \n",
      "From CSV: 0.672\n",
      "From Code: 0.5828571428571429.\n",
      "\n",
      "\n",
      "Stylometric value index: 14. \n",
      "From CSV: 0.5828571428571429\n",
      "From Code: 0.672.\n",
      "\n",
      "\n",
      "Stylometric value index: 16. \n",
      "From CSV: 0.1527258010059176\n",
      "From Code: 0.15265831280397066.\n",
      "\n",
      "\n",
      "Stylometric value index: 17. \n",
      "From CSV: 0.11052166224580016\n",
      "From Code: 0.1104728236853734.\n",
      "\n",
      "\n",
      "Stylometric value index: 18. \n",
      "From CSV: 0.1672760293449949\n",
      "From Code: 0.1672021115238084.\n",
      "\n",
      "\n",
      "Stylometric value index: 19. \n",
      "From CSV: 0.24789905550459854\n",
      "From Code: 0.24778951106999644.\n",
      "\n",
      "\n",
      "Stylometric value index: 20. \n",
      "From CSV: 0.015788808892257165\n",
      "From Code: 0.01578183195505334.\n",
      "\n",
      "\n",
      "Stylometric value index: 26. \n",
      "From CSV: 0.5794878032957052\n",
      "From Code: 0.5695581496160516.\n"
     ]
    }
   ],
   "source": [
    "for i in range(0, len(from_csv)):\n",
    "\n",
    "    if from_csv[i] == from_code[i]:\n",
    "        continue\n",
    "    else:\n",
    "        print(f'\\n\\nStylometric value index: {i}. \\nFrom CSV: {\n",
    "              from_csv[i]}\\nFrom Code: {from_code[i]}.')"
   ]
  },
  {
   "cell_type": "code",
   "execution_count": null,
   "metadata": {},
   "outputs": [],
   "source": []
  },
  {
   "cell_type": "code",
   "execution_count": null,
   "metadata": {},
   "outputs": [],
   "source": [
    "we need the embedding generation to match perfectly."
   ]
  },
  {
   "cell_type": "code",
   "execution_count": null,
   "metadata": {},
   "outputs": [],
   "source": [
    "when the generated embedding is being passed. is there a header being added or anything else?"
   ]
  },
  {
   "cell_type": "code",
   "execution_count": null,
   "metadata": {},
   "outputs": [],
   "source": [
    "we shall assume that theres flaws in the embedding gen. Let us see what happens if we leave the model. The discrepencies are minimal:\n",
    "\n",
    "Charles Darwin provided the first explanation for the means by which evolution takes place. This was by the process of natural selection. A key aspect of Darwin's ideas was that species were not immutable, that they could change in their essential characteristics. It had been a common belief that species were immutable because of the writings in the Bible. Genesis mentioned the species that God had created and it was assumed that only God could create new species. Darwin was worried about the implications of his ideas. In January 1844 he wrote to J. D. Hooker claiming that it was 'like confessing a murder' to suggest that species were not immutable. However, many of Darwin's ideas had been in discussion by earlier natural historians and Romantic thinkers in the decades before he published his Origin of Species by means of Natural Selection in 1859. Romanticism began in the mid-eighteenth century and reached its height in the nineteenth century. The Romantics questioned old beliefs, requiring proof before they believed in something. They would study nature closely and believed that man was closely linked with the natural world. In this way Darwin was also a Romantic thinker. Nichols, Ashton, 'The Anxiety of Species: Toward a Romantic Natural History', Romantic Natural History, 2000, (21 December 2003). Darwin's theory of evolution involves natural selection, which comes as a result of 'a severe struggle for life'. Those animals with characteristics better adapted to their environment will survive to breed and pass on those characteristics while the less well adapted will die off; 'nature was seen as discarding as well as developing various forms of life'. H. Honour suggests that Darwin's theory of evolution was 'based on a distinctly Romantic notion of conflict'. The Romantics rejected classical notions of harmony and order, instead celebrating the wild and chaotic aspects of nature. Darwin, Charles, On the Origin of Species. A Facsimile of the First Edition, with an  by Ernst Mayr, (Cambridge, 1976) p.126. Williams, Raymond, Keywords, (Glasgow, 1983) p.121. Honour, H, Romanticism, (London, 1979) p.311. Instead of merely accepting old beliefs, Romantics looked for other answers.  \n",
    "0.92 similarity with author 13\n",
    "    \n",
    "    nope. we need to ensure that embedding generation is matched.\n",
    "\n",
    "\"Social unrests were not unique to the 19 th Century, and the Qing state was by no means inexperienced in putting down such attempts to destabilize the State. Despite the consolidation of power during the reign of the Emperor Kangsi to Qianlong, there remained however, certain underlying grievances that were never fully eradicated, which led to the persistence of the themes such as 'Over-throw the Qing, Restore the Ming', ethnic and religious tensions. The end of the Qianlong era marked the conclusion of the golden age of Qing rule and saw the gradual decline of central power vis-à-vis the provincial power and the emerging western participation in Chinese politics. Though westerners have had a presence in China dating back to the Yuan dynasty, the Opium Wars and the corresponding treaty system marked a watershed for China-West relations, resulting in the change of status quo, of perceptions; and manifested itself in the increasingly intrusive presence of the West, which exposed the many weaknesses of the Qing state, making it more vulnerable to attacks from within. It is in this context that the above question should be addressed, and the writer will examine firstly the internal conditions and entrenched corruption which made it conducive for the outbreak of social unrests, followed by the implications of change brought about by the West, such as the desire to trade,  of new technology, ideas, religion, and the pursuit of Imperialism which clashed with Chinese assumptions of the monopoly of civilization, and in turn produced a virulent anti-foreign nationalism which threatened the social order during the period in question. Hence the writer will argue that the social unrests at the beginning of the 19 th Century was due more to the internal rather than external factors; but increasingly, the presence of the West is crucial to the emergence of violent xenophobic nationalism, which account for the social unrests in the later part of the 19 th Century. One of the persistent problems that the Qing failed to eradicate were the deep-rooted ethnic tensions which lent itself to many rebellions at the first half of the 19 th Century.\",19\n",
    "0.11 similarity with author 13\n",
    "    \n",
    "\n",
    "\n",
    "\n",
    "\"A disease slowly destroys your oligodendroglia cellsOligodendroglia cells are held in the sheath of Schwann, which covers myelin and provides insulation to the neurons in the central nervous system. The axon of each neuron is protected by a myelin sheath, this ensures the transmission of signals and allows nerve impulses to be propagated to the next neuron. This mylelination has a strong impact on behaviours as it profoundly increases the velocity of nerve impulses and thereby affects the temporal order of events in the nervous system (Biological Psychology, 2002, p. 69). Normal transmissions are so fast and automatic that it is hard to accept a delay between a thought and a muscle contraction. The speed of nerve conduction due to the presence of the oligodendroglia cells is up to approximately 260 miles per hour (Psychology 5 th ed., 1999 p.51). The myelin sheath around the axon is made up from 2 principle proteins, the myelin basic protein and the proteolipid protein. Without the oligodendroglia cells forming myelin, nerve signals would become slowed or even completely blocked, thus causing symptoms of Multiple Sclerosis. In MS T-cells from the immune system become sensitised to the myelin basic protein and begin to attack it, this causes the body to try and repair the situation. Therefore in the initial stages of MS the oligodendroglia cells are not destroyed, but produce more myelin to compensate for the myelin being attacked. This causes the symptoms of MS to disappear, but only until the myelin degenerates again. In later stages of MS the oligodendroglia cells are destroyed, this produces multiple demyelinated areas on the axons of the neurons and eventually a person with MS develops areas of scarring where the healthy myelin once used to be. These areas of scaring cause lesions to appear in seemingly random areas of the CNS white matter and because the severity of MS depends on the location and extent to which these lesions occur, the type of symptoms can vary ( URL ). Myelination slows down the speed of conduction of neural impulses and thus can cause slowness of movement and loss of sensory abilities (Biological Psychology, 2002, p. 69).\",20\n",
    "\n",
    "\n",
    "\n"
   ]
  },
  {
   "cell_type": "code",
   "execution_count": null,
   "metadata": {},
   "outputs": [],
   "source": [
    "0.99 on person 4 past pieces of approx 400 vs 800 word check  and 1.027  on a short 291 word sample"
   ]
  },
  {
   "cell_type": "code",
   "execution_count": null,
   "metadata": {},
   "outputs": [],
   "source": [
    "piece from mr o shaughnassey:\n",
    "\n",
    "When initially assigned this assignment I was extremely anxious and hesitant about approaching a colleague and my ability to conduct an effective coaching session. Having completed the three coaching sessions I feel that they were effective and the experience and confidence I have gained was invaluable. The most challenging aspect of coaching I found was not been able to solve my colleagues' issue immediately and restraining myself from \n",
    "\n",
    "giving my own opinion and advice. The sessions thought me that listening is a vital skill when coaching someone and patience and empathy are essential. I found coaching satisfying particularly when the coachee realised how to improve their own situation through the use of probing questions and effective listening and without I giving possible solutions. I struggled not to give an opinion especially when the coachee asked \"What do you think?\", throughout the sessions. In the first session and on reflection I didn't listen enough and I focused too much on asking the next question rather than allowing the coachee to reflect on what they had just said. After the first session, I questioned my own abilities as a new coach and my ability to think of truly effective probing questions. In all three sessions, there were moments where I lost track of how to move the session forward however during these moments of silence the coachee asked a question of their own which allowed us to move in that direction. \n",
    "After each of the coaching sessions and on a much more informal basis in the staff room the coachee on all three occasions commented on much better they felt discussing their issues with someone and that she felt she was making an action plan moving forward. The coachee’ initial goals were to improve collaboration and to alleviate some of the stress she was under due to her new role as department head, although we made progress on both other priorities and issues have come into focus. While the coaching sessions for this assignment are complete we have agreed to continue to meet on a one to one basis for the remainder of the year. \n",
    "In conclusion, reflecting on the experience I feel that coaching is an extremely effective tool to motivate and encourage people to solve their own issues and fears. The experience has given me insight into my own skills and areas for improvement.  \n"
   ]
  },
  {
   "cell_type": "code",
   "execution_count": null,
   "metadata": {},
   "outputs": [],
   "source": [
    "good example demo piece:\n",
    "\n",
    "\n",
    "I did not see much more of my unknown friend after this little check upon our intercourse. He neither sought nor avoided me, and I did a little avoid him—the result of which was an occasional “Good morning” only. I think he must have left us at Suez, for I missed him in the train afterwards, and he was not of our party when we set sail again. To tell the truth, by the time our voyage was over I had almost forgotten his existence.\n",
    "\n",
    "We called our voyage over at Brindisi;[Pg 167] it was over so far that we were given up to our own devices, and no longer bound to consult those times and tides that wait for no man. There was no occasion for us, as daddy said, to get to London in a couple of days; and we certainly did not hurry ourselves. We went to Venice, and Florence, and Naples, and Milan, and Rome, and all the famous continental show-places that tourists always go to—Australian tourists, at any rate. I was in such a hurry to see them (for Tom had described them all to me) that I was allowed to overrule mother’s sensible suggestion that we should get home first, and come back as sightseers afterwards.\n",
    "\n",
    "I was as fresh and vigorous as possible, and so was daddy; and, if mother felt fagged with her travels, and needed a resting-place for the sole of her tired foot, she[Pg 168] was the last one to own to it. And she got some pleasure from the knowledge that it was not the season for tourists proper, and that we could not therefore identify ourselves with those objectionable persons—as we all certainly gained a great advantage in having quiet ways to travel in, and the skies of spring above us. We “planted” the bulk of our luggage in various railway centres, and we went a round of sight-seeing that occupied us for several weeks, taking in (besides the places I have named) the highways of Alpine Switzerland, and old-world Norman cities that struck me dumb with their beauty. I appeared in the traditional colonial character—not surprised at anything; for I was simply so overpowered by the wonder of all these astounding novelties that I could not express myself. I gazed,[Pg 169] and listened, and sighed, and sometimes rubbed furtive tears out of the corners of my eyes; but such a spell of silence fell upon my nimble tongue as it had never known, perhaps, since it learned the English language. Mother, I need scarcely add, was highly gratified by this unaccustomed well-bred reticence on my part, which she had hardly expected. I am quite sure she accounted for it to herself on her favourite theory of the instinct of gentle blood.\n",
    "\n",
    "At Paris we took up our abode for a week, not so much to see the lions of the city, though we made a point of missing none of the bigger sort, as to indulge in an extensive course of shopping for pretty clothes for me. It had been arranged that, on our arrival in London, we were to make our head-quarters for a while at[Pg 170] aunt Alice’s house in South Kensington, and, from the time that that was settled, mother had shown herself extremely anxious that I should be provided with what she called a suitable outfit. Father also spoke about it, and bade her not consider expense in making her purchases, for that he “should like the child to be as well dressed as other people.” I taxed them with thinking that I was a beauty, and wanting to show me off to my English relations; and when they declared that I was a conceited monkey, and that they never thought anything of the kind, it was transparently evident to me that they did not adhere to the truth quite so strictly as usual.\n",
    "\n",
    "Mother, who was a born economist, and never, I am sure, wasted a shilling in her life, set to work in those Paris shops as[Pg 171] if she were a Baroness Rothschild at least. She began, in the most systematic manner, with lovely underclothing, and handkerchiefs, and collars, and cuffs, and worked up, through shoes and boots, dressing-gowns and stockings, gloves, and ties, and sash ribbons, and laces—all those manifold little costly things that I had hitherto been but sparingly supplied with—to the more important features of a bran-new wardrobe; and, then, what she laid out upon dresses, bonnets, jackets, and things of that sort, I should be afraid to say. She had been born with that rare attribute, taste, and no number of years in the bush had had any power to impair it; and though the clothes she bought me had not a costly appearance, and were all more or less simple in style, they were so fine and delicate and distinguished-looking,[Pg 172] that they were fit for a princess. Poor dear Bronzewing must have sold well, I told father, when all our purchases were made, including, of course, some war paint for mother, which was of no account to her compared with my equipment; but he only smiled, and patted my head, and showed himself well pleased with our extravagance.\n",
    "\n"
   ]
  },
  {
   "cell_type": "code",
   "execution_count": null,
   "metadata": {},
   "outputs": [],
   "source": [
    "increased context size, increased capability to distinguish authiors?\n",
    "\n",
    "dad vs dad 0.91\n",
    "\n",
    "0.93 - just copied and pasted!\n",
    "\n",
    "1. Introduction\n",
    "Leadership, change management and school improvement are dominant themes in\n",
    "contemporary education. The Irish Education System is currently undergoing change\n",
    "at many levels, this “change comes in many forms and is already happening, all the\n",
    "time” (NCCA 2009) . Curriculum reform, and school improvement are key drivers of\n",
    "change. Fullan (2014) (citing Mintzberg et al. 1998) outlines the futility of trying to\n",
    "direct change and proposed that “the best way to ‘manage’ change is to allow for it to\n",
    "happen” (P324), “to be puled by the concerns out there rather than being pushed by\n",
    "the concepts in here” (P373)” (Fullan 2014, p.33)\n",
    "Transforming and leading organisational culture that is committed to learning and\n",
    "improvement are the aspirations of many transformational leaders. Fullan (2002)\n",
    "contends, “to accomplish lasting reform we need fundamental transformation in the\n",
    "learning cultures of schools and of the teaching profession itself” (Fullan 2002, p.3)\n",
    "Internationally, trends in educational evaluation are showing a departure from top\n",
    "down models of inspection in favour of school-led, self-evaluation practices. Aligned\n",
    "with such trends is the observation that education systems with developed SSE\n",
    "practices are in turn performing favourably in international assessments and\n",
    "associated rankings. “Countries such as Finland, Scotland and New Zealand, where\n",
    "schools are encouraged to reflect on and examine their own practice and take\n",
    "responsibility for improvement within their own schools, consistently perform well in\n",
    "international assessments. (SSE 2017)\n",
    "This paper will discuss research, developments and current trends that dominate in\n",
    "relation to school improvement and school self-evaluation.\n",
    "\n",
    "2.1 Leadership – Leading and managing change\n",
    "In the broader context of effective educational leadership; models of leadership,\n",
    "leadership style, organisational culture and models of change management are key\n",
    "areas for consideration.\n",
    "Traditional Leader-follower models of leadership were first researched and defined in\n",
    "the 1960’s. Initial hierarchical models were followed by emergent styles such as\n",
    "charismatic leadership (House, 1977) and transformational leadership (Bass, 1985).\n",
    "More recent developments have seen much focus placed on authentic and ethical\n",
    "leadership styles.\n",
    "\n",
    "Leading within a contemporary educational setting requires the application of varied\n",
    "leadership styles. However, employee motivation and engagement coupled with\n",
    "developing and maintaining a positive school culture must be central to any\n",
    "leadership strategy. Research on the most effective leadership styles highlights the\n",
    "importance of relationships and relationship building within organisations. Leader-\n",
    "Member Exchange (LMX) Theory (Graen &amp; Uhl-Bien 1995) has focused on the\n",
    "quality of the leader-member relationships within an organisation. LMX theory has\n",
    "shown that organisations with high quality leader-member relationships are high trust\n",
    "environments that manifest in high levels of employee engagement, satisfaction and\n",
    "performance (Ilies, Nahrgang &amp; Morgeson 2007).\n",
    "The challenge for contemporary leaders to build capacity and sustain engagement\n",
    "highlights the opportunity that emergent leadership theories present for involving\n",
    "employees in the process of school improvement. Today’s employees expect to be\n",
    "involved in decision making (Piderit 2000). In this regard employee involvement and\n",
    "buy-in present a better strategy than ‘top down’ hierarchical models for change\n",
    "management, “top-down leadership doesn’t last even if you get a lot of the pieces\n",
    "right, because it is too difficult to get, and especially to sustain, widespread buy-in\n",
    "from the bottom” (Fullan 2015).\n",
    "Goleman (2000, pp.82, 83) defined six leadership styles; coercive, authoritative,\n",
    "affiliative, democratic, pacesetting and coaching. Fullan (2014) observed that of the\n",
    "six styles, coercive and pacesetting had a negative effect on school climate, all other\n",
    "four styles had a positive effect on both school climate and performance.\n",
    "Effective leadership style is critical to driving and sustaining a reflective school\n",
    "culture committed to improvement. Macbeath (1999) alludes to the complexity of the\n",
    "hidden curriculum that is school culture. “The word ‘culture’ in its biological sense\n",
    "describes something that has grown over time and that has invisible, and sometimes\n",
    "deep, roots” (MacBeath 1999) . Fullan (2002) asserts that principals have a role in\n",
    "leading culture and creating school environments that are conducive to change.\n",
    "Wagner (2006) proposed that school culture in turn affects student outcomes and\n",
    "everything that happens within organisations. School culture and climate also dictates\n",
    "a schools capacity to engage meaningfully with any school improvement process. “If\n",
    "success at individual and school level is to be assured it follows that everyone in the\n",
    "school community carries some form of responsibility and accountability. That is\n",
    "most likely to be realised in practice if people’s expectations of each other are\n",
    "understood and if there is a climate in the school which is receptive to critical review\n",
    "and improvement at all levels” (MacBeath 1999, p.146) .\n",
    "Theoretical change management models provide excellent structure for the planning\n",
    "and implementation of change. Lewin (1946) proposed the 3-step model for\n",
    "implementing change. Argyris (1970) proposed a change management model that was\n",
    "aligned to the conditions required for change to occur. Elliot (1990) developed a 4-\n",
    "step model for managed change. Burns (1992) proposed a further staged model,\n",
    "aligned to organisational vision and culture. Kotter (1996) developed Kotter&\n",
    "Change Model. This model builds on the strengths of the previous models and also\n",
    "includes steps for embedding change into organisational culture to sustain lasting\n",
    "change."
   ]
  },
  {
   "cell_type": "code",
   "execution_count": null,
   "metadata": {},
   "outputs": [],
   "source": [
    "\n",
    "\n",
    "gpt trying to mimic dad:\n",
    "\n",
    "In the landscape of contemporary educational leadership, the nuanced understanding of change management stands as a pivotal component for fostering effective and sustainable organizational transformation. As educational environments continuously evolve, the imperative for leaders to adapt and implement change management strategies becomes increasingly critical. Kotter's 8-Step Change Model (Kotter 1996) serves as a foundational framework, yet the exploration of additional models offers a broader perspective on navigating change within educational settings.\n",
    "\n",
    "The concept of Adaptive Leadership (Heifetz, Grashow, & Linsky, 2009) introduces a dynamic approach to leadership, emphasizing the importance of leaders being flexible and responsive to the changing needs of their organization. This theory suggests that leadership should not be seen as a fixed set of practices, but rather as a complex interplay of behaviors that adapt to the unique challenges and opportunities presented by organizational change. Adaptive leadership focuses on the cultivation of an environment where members of the educational community are empowered to tackle tough challenges and thrive amidst change.\n",
    "\n",
    "Moreover, the Distributed Leadership model (Spillane, Halverson, & Diamond 2004) highlights the significance of dispersing leadership responsibilities across various stakeholders within the educational setting. This model posits that leadership efficacy is enhanced when multiple individuals are engaged in the decision-making process, thus fostering a more inclusive and collaborative approach to change management. By leveraging the diverse talents and perspectives within an organization, distributed leadership amplifies the collective capacity to navigate complex changes.\n",
    "\n",
    "Additionally, the concept of Transformational Leadership (Bass, 1985) remains highly relevant in the context of educational change management. This approach emphasizes the leader’s role in inspiring and motivating followers to exceed their own self-interests for the sake of the organization. Transformational leaders are characterized by their ability to envision a compelling future, communicate this vision effectively, and cultivate an environment of trust and collaboration. Such leaders are adept at driving significant, systemic change by aligning organizational values with the broader goals of educational improvement and student success.\n",
    "\n",
    "Integrating these theories into the fabric of educational leadership necessitates a reflective and strategic approach. Leaders must be adept at diagnosing the specific needs of their organization, selecting appropriate change management strategies, and fostering a culture of continuous learning and adaptation. The challenge lies not only in the implementation of these theories but also in sustaining the momentum of change to achieve long-lasting impact.\n",
    "\n",
    "In conclusion, the synthesis of Kotter’s 8-Step Change Model with the principles of Adaptive Leadership, Distributed Leadership, and Transformational Leadership offers a comprehensive framework for navigating the complexities of change management in educational settings. By embracing these multifaceted approaches, educational leaders can better equip their organizations to thrive in an ever-changing landscape, ultimately enhancing the educational experience for all stakeholders.\n",
    "\n",
    "\n",
    "0.396 ; when compared to dad\n",
    "\n",
    "when compared to james: 0.053 \n",
    "\n",
    "compared to 13: 0.280\n",
    "\n",
    "0.050 when compared to person.\n",
    "\n",
    "\n",
    "\n"
   ]
  },
  {
   "cell_type": "code",
   "execution_count": null,
   "metadata": {},
   "outputs": [],
   "source": [
    "maybe the idea is copying and pasting full pages of their writing. regardless of how messy"
   ]
  },
  {
   "cell_type": "code",
   "execution_count": null,
   "metadata": {},
   "outputs": [],
   "source": [
    "text from dickins: \n",
    "The sound resounded through the house like thunder. Every room above,\n",
    "and every cask in the wine merchant's cellars below, appeared to have a\n",
    "separate peal of echoes of its own. Scrooge was not a man to be\n",
    "frightened by echoes. He fastened the door, and walked across the hall,\n",
    "and up the stairs: slowly, too: trimming his candle as he went.\n",
    "\n",
    "You may talk vaguely about driving a coach and six up a good old flight\n",
    "of stairs, or through a bad young Act of Parliament; but I mean to say\n",
    "you might have got a hearse up that staircase, and taken it broadwise,\n",
    "with the splinter-bar towards the wall, and the door towards the\n",
    "balustrades: and done it easy. There was plenty of width for that, and\n",
    "room to spare; which is perhaps the reason why Scrooge thought he saw a\n",
    "locomotive hearse going on before him in the gloom. Half-a-dozen\n",
    "gas-lamps out of the street wouldn't have lighted the entry too well, so\n",
    "you may suppose that it was pretty dark with Scrooge's dip.\n",
    "\n",
    "Up Scrooge went, not caring a button for that. Darkness is cheap, and\n",
    "Scrooge liked it. But, before he shut his heavy door, he walked through\n",
    "his rooms to see that all was right. He had just enough recollection of\n",
    "the face to desire to do that.\n",
    "\n",
    "Sitting-room, bedroom, lumber-room. All as they should be. Nobody under\n",
    "the table, nobody under the sofa; a small fire in the grate; spoon and\n",
    "basin ready; and the little saucepan of gruel (Scrooge had a cold in his\n",
    "head) upon the hob. Nobody under the bed; nobody in the closet; nobody\n",
    "in his dressing-gown, which was hanging up in a suspicious attitude\n",
    "against the wall. Lumber-room as usual. Old fire-guard, old shoes, two\n",
    "fish baskets, washing-stand on three legs, and a poker.\n",
    "\n",
    "Quite satisfied, he closed his door, and locked himself in; double\n",
    "locked himself in, which was not his custom. Thus secured against\n",
    "surprise, he took off his cravat; put on his dressing-gown and slippers,\n",
    "and his nightcap; and sat down before the fire to take his gruel.\n",
    "\n",
    "It was a very low fire indeed; nothing on such a bitter night. He was\n",
    "obliged to sit close to it, and brood over it, before he could extract\n",
    "the least sensation of warmth from such a handful of fuel. The\n",
    "fire-place was an old one, built by some Dutch merchant long ago, and\n",
    "paved all round with quaint Dutch tiles, designed to illustrate the\n",
    "Scriptures. There were Cains and Abels, Pharaoh's daughters, Queens of\n",
    "Sheba, Angelic messengers descending through the air on clouds like\n",
    "feather beds, Abrahams, Belshazzars, Apostles putting off to sea in\n",
    "butter-boats, hundreds of figures to attract his thoughts; and yet that\n",
    "face of Marley, seven years dead, came like the ancient Prophet's rod,\n",
    "and swallowed up the whole. If each smooth tile had been a blank at\n",
    "first, with power to shape some picture on its surface from the\n",
    "disjointed fragments of his thoughts, there would have been a copy of\n",
    "old Marley's head on every one.\n",
    "\n",
    "\n",
    "dickins 1.something\n",
    "dad 0.283\n",
    "13 0.451\n",
    "james 0.758\n",
    "person 0.84\n",
    "\n"
   ]
  },
  {
   "cell_type": "code",
   "execution_count": 10,
   "metadata": {},
   "outputs": [
    {
     "name": "stdout",
     "output_type": "stream",
     "text": [
      "25\n",
      "[0.04, 0.04, 0.04, 0.04, 0.04, 0.04, 0.04, 0.04, 0.04, 0.04, 0.04, 0.04, 0.04, 0.04, 0.04, 0.04, 0.04, 0.04, 0.04, 0.04, 0.04, 0.04, 0.04, 0.04, 0.04]\n"
     ]
    }
   ],
   "source": [
    "\n",
    "filler_csv_paths = [\n",
    "    \"5_3.csv\",\n",
    "    \"FGPT4-2.csv\",\n",
    "    \"4-2_2.csv\",\n",
    "    \"4-2_1.csv\",\n",
    "    \"3-1.5-3\",\n",
    "    \"GPT4-1_3\",\n",
    "    \"321KGPT3-2-3.csv\",\n",
    "    \"VTL10_Gen2_test.csv\",\n",
    "    \"VTL10_Gen3_test.csv\",\n",
    "    \"VTL20_Gen2_t.csv\",\n",
    "    \"VTL20_Gen3_t.csv\",\n",
    "    \"VTL20_Gen4_t.csv\",\n",
    "    \"VTL20_Gen5_t.csv\"\n",
    "    \"5_3.csv\",\n",
    "    \"FGPT4-2.csv\",\n",
    "    \"4-2_2.csv\",\n",
    "    \"4-2_1.csv\",\n",
    "    \"3-1.5-3\",\n",
    "    \"GPT4-1_3\",\n",
    "    \"321KGPT3-2-3.csv\",\n",
    "    \"VTL10_Gen2_test.csv\",\n",
    "    \"VTL10_Gen3_test.csv\",\n",
    "    \"VTL20_Gen2_t.csv\",\n",
    "    \"VTL20_Gen3_t.csv\",\n",
    "    \"VTL20_Gen4_t.csv\",\n",
    "    \"VTL20_Gen5_t.csv\"\n",
    "\n",
    "]\n",
    "\n",
    "e = len(filler_csv_paths)\n",
    "print(e)\n",
    "percentages = [1/e for i in range(0,e)]\n",
    "print(percentages)"
   ]
  },
  {
   "cell_type": "code",
   "execution_count": null,
   "metadata": {},
   "outputs": [],
   "source": [
    "maybe we are recognising that the model acknowledges genres? and their similarity in the vector space!"
   ]
  },
  {
   "cell_type": "code",
   "execution_count": 1,
   "metadata": {},
   "outputs": [
    {
     "name": "stdout",
     "output_type": "stream",
     "text": [
      "text\n"
     ]
    }
   ],
   "source": [
    "print('text')"
   ]
  },
  {
   "cell_type": "markdown",
   "metadata": {},
   "source": [
    "\n",
    "Note: The model has not been trained on descriptive english passages. If we are to train a model on books, during the embedding generation process we will need a clever way of skipping over dialogue"
   ]
  }
 ],
 "metadata": {
  "kernelspec": {
   "display_name": "Python 3",
   "language": "python",
   "name": "python3"
  },
  "language_info": {
   "codemirror_mode": {
    "name": "ipython",
    "version": 3
   },
   "file_extension": ".py",
   "mimetype": "text/x-python",
   "name": "python",
   "nbconvert_exporter": "python",
   "pygments_lexer": "ipython3",
   "version": "3.9.6"
  }
 },
 "nbformat": 4,
 "nbformat_minor": 2
}
